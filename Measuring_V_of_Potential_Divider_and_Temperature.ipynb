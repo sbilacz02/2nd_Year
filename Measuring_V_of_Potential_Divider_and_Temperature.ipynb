{
 "cells": [
  {
   "cell_type": "code",
   "execution_count": 4,
   "id": "0962f837",
   "metadata": {},
   "outputs": [
    {
     "name": "stdout",
     "output_type": "stream",
     "text": [
      "average value = 2.5 +/- 0.0 units\n"
     ]
    }
   ],
   "source": [
    "import serial\n",
    "import numpy\n",
    "\n",
    "def read_arduino(number_readings=1, data_type=numpy.float32, error_value=numpy.NaN,\n",
    "                 serial_port='COM3', baud_rate=9600, timeout=2, \n",
    "                 terminator='\\r\\n', startup_message='Yours sincerely, Arduino'): \n",
    "    '''\n",
    "    Returns number_readings (default 1) voltage measurements from Arduino attached to \n",
    "    serial_port at baud_rate with specified timeout.\n",
    "    Each voltage reading from Arduino should be terminated with terminator (string), and \n",
    "    it should give a suitable startup message (string).  \n",
    "    Returns either a numpy array containing a single value (num_readings <= 1), or of length \n",
    "    number_readings, of type data_type. \n",
    "    Returns element with error_value if value cannot be converted to type data_type.\n",
    "    '''\n",
    "    if number_readings < 1: number_readings = 1 # need at least 1 reading!\n",
    "    # Define an empty array of appropriate size and datatype\n",
    "    numeric_values = numpy.zeros((number_readings,), dtype=data_type)\n",
    "    \n",
    "    with serial.Serial(port=serial_port, baudrate=baud_rate, timeout=timeout) as arduino:\n",
    "        # Connect, and read until distinctive startup_message\n",
    "        arduino.read_until(startup_message.encode()) # string.encode() -> bytearray\n",
    "        for i in range(number_readings): # Gather the appropriate number of measurements\n",
    "            value = arduino.read_until(terminator.encode()) # string.encode() -> bytearray\n",
    "            try: # try to convert returned value to type data_type\n",
    "                numeric_values[i] = data_type(value.decode().strip())\n",
    "            except ValueError: # If we fail to convert data to type data_type, then\n",
    "                numeric_values[i] = error_value # return error_value instead.\n",
    "    # Remember that exiting the 'with' block closes the connection automatically.\n",
    "    return numeric_values\n",
    "# Run, or copy and run, this cell to make each set of readings.\n",
    "\n",
    "output_voltages = read_arduino(number_readings=10)\n",
    "\n",
    "mean = numpy.mean(output_voltages) \n",
    "std_error = numpy.std(output_voltages)/numpy.sqrt(len(output_voltages))\n",
    "\n",
    "print('average value =', mean, '+/-', std_error, 'units')"
   ]
  },
  {
   "cell_type": "code",
   "execution_count": 6,
   "id": "4fc506d8",
   "metadata": {},
   "outputs": [
    {
     "name": "stdout",
     "output_type": "stream",
     "text": [
      "data : [26.5 26.5 27.  28.  28.5 29.  29.  29.5 29.5 30. ]\n",
      "length : 10\n",
      "average temperature = 28.35 +/- 0.38762092440283624  degrees C\n"
     ]
    }
   ],
   "source": [
    "import serial\n",
    "import numpy\n",
    "\n",
    "def read_arduino(number_readings=1, data_type=numpy.float32, error_value=numpy.NaN,\n",
    "                 serial_port='COM3', baud_rate=9600, timeout=2, \n",
    "                 terminator='\\r\\n', startup_message='Yours sincerely, Arduino'): \n",
    "    '''\n",
    "    Returns number_readings (default 1) voltage measurements from Arduino attached to \n",
    "    serial_port at baud_rate with specified timeout.\n",
    "    Each voltage reading from Arduino should be terminated with terminator (string), and \n",
    "    it should give a suitable startup message (string).  \n",
    "    Returns either a numpy array containing a single value (num_readings <= 1), or of length \n",
    "    number_readings, of type data_type. \n",
    "    Returns element with error_value if value cannot be converted to type data_type.\n",
    "    '''\n",
    "    if number_readings < 1: number_readings = 1 # need at least 1 reading!\n",
    "    # Define an empty array of appropriate size and datatype\n",
    "    numeric_values = numpy.zeros((number_readings,), dtype=data_type)\n",
    "    \n",
    "    with serial.Serial(port=serial_port, baudrate=baud_rate, timeout=timeout) as arduino:\n",
    "        # Connect, and read until distinctive startup_message\n",
    "        arduino.read_until(startup_message.encode()) # string.encode() -> bytearray\n",
    "        for i in range(number_readings): # Gather the appropriate number of measurements\n",
    "            value = arduino.read_until(terminator.encode()) # string.encode() -> bytearray\n",
    "            try: # try to convert returned value to type data_type\n",
    "                numeric_values[i] = data_type(value.decode().strip())\n",
    "            except ValueError: # If we fail to convert data to type data_type, then\n",
    "                numeric_values[i] = error_value # return error_value instead.\n",
    "    # Remember that exiting the 'with' block closes the connection automatically.\n",
    "    return numeric_values\n",
    "# Run, or copy and run, this cell to make each set of readings.\n",
    "\n",
    "temperatures = read_arduino(number_readings=11)[1:] # discard first reading\n",
    "\n",
    "print('data :', temperatures)\n",
    "print('length :', len(temperatures))\n",
    "\n",
    "mean = numpy.mean(temperatures) \n",
    "std_error = numpy.std(temperatures)/numpy.sqrt(len(temperatures))\n",
    "\n",
    "print('average temperature =', mean, '+/-', std_error, ' degrees C')"
   ]
  },
  {
   "cell_type": "code",
   "execution_count": null,
   "id": "149452bc",
   "metadata": {},
   "outputs": [],
   "source": []
  },
  {
   "cell_type": "code",
   "execution_count": null,
   "id": "987aa205",
   "metadata": {},
   "outputs": [],
   "source": []
  }
 ],
 "metadata": {
  "kernelspec": {
   "display_name": "Python 3",
   "language": "python",
   "name": "python3"
  },
  "language_info": {
   "codemirror_mode": {
    "name": "ipython",
    "version": 3
   },
   "file_extension": ".py",
   "mimetype": "text/x-python",
   "name": "python",
   "nbconvert_exporter": "python",
   "pygments_lexer": "ipython3",
   "version": "3.8.8"
  }
 },
 "nbformat": 4,
 "nbformat_minor": 5
}

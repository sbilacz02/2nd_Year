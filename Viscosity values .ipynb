{
 "cells": [
  {
   "cell_type": "code",
   "execution_count": 1,
   "id": "b5eb472e",
   "metadata": {},
   "outputs": [
    {
     "name": "stdout",
     "output_type": "stream",
     "text": [
      "0.0025071228789846837 +/- 0.00039680959032991535\n",
      "0.002506599147239202 +/- 0.0003069714439039523\n",
      "0.0030898215993164476 +/- 0.0003741480426069723\n",
      "0.004012610948422224 +/- 0.00043723551429924686\n",
      "0.004198943584445225 +/- 0.0003939014987148637\n",
      "0.0020251981767670482 +/- 0.0001814367070871261\n",
      "0.0017883326832203695 +/- 0.0002202493180413038\n",
      "0.0029722877208679353 +/- 0.0001800259443416689\n",
      "0.0033962188284683524 +/- 0.0003859680848860012\n",
      "0.006407435455652164 +/- 0.0011108213393019616\n"
     ]
    }
   ],
   "source": [
    "import numpy\n",
    "\n",
    "a = 0.00073 \n",
    "rho = 997\n",
    "g = 9.81\n",
    "    \n",
    "def vis(grad, L):\n",
    "    return (numpy.pi/8)*(rho*g*a**4)*(1/L)*(1/grad)\n",
    "\n",
    "def error(grad, grad_err, L):\n",
    "    L_err = 0.0005 \n",
    "    a_err = 0.0000046691/2\n",
    "    a4_err = (a**4)*4*(a_err/a)\n",
    "    return (vis(grad, L)*numpy.sqrt((L_err/L)**2+(a4_err/a**4)**2+(grad_err/grad)**2))\n",
    "\n",
    "\n",
    "    \n",
    "print('{} +/- {}'.format(vis(6.21501e-6, 0.070), error(6.21501e-6, 0.000000979444, 0.070)))    \n",
    "print('{} +/- {}'.format(vis(7.25236e-6, 0.060), error(7.25236e-6, 0.000000881234, 0.060)))\n",
    "print('{} +/- {}'.format(vis(7.06012e-6, 0.050), error(7.06012e-6, 0.000000847193, 0.050)))\n",
    "print('{} +/- {}'.format(vis(6.79561e-6, 0.040), error(6.79561e-6, 0.000000730443, 0.040)))\n",
    "print('{} +/- {}'.format(vis(8.65873e-6, 0.030), error(8.65873e-6, 0.000000791639, 0.030)))\n",
    "\n",
    "print('{} +/- {}'.format(vis(7.69396E-06, 0.070), error(7.69396E-06, 6.80019E-07, 0.070)))    \n",
    "print('{} +/- {}'.format(vis(1.01652E-05, 0.060), error(1.01652E-05, 1.24228E-06, 0.060)))\n",
    "print('{} +/- {}'.format(vis(7.3393E-06, 0.050), error(7.3393E-06, 4.28257E-07, 0.050)))\n",
    "print('{} +/- {}'.format(vis(8.02897E-06, 0.040), error(8.02897E-06, 9.01093E-07, 0.040)))\n",
    "print('{} +/- {}'.format(vis(5.67427E-06, 0.030), error(5.67427E-06, 9.76466E-07, 0.030)))"
   ]
  },
  {
   "cell_type": "code",
   "execution_count": null,
   "id": "d0a8f0dd",
   "metadata": {},
   "outputs": [],
   "source": []
  }
 ],
 "metadata": {
  "kernelspec": {
   "display_name": "Python 3",
   "language": "python",
   "name": "python3"
  },
  "language_info": {
   "codemirror_mode": {
    "name": "ipython",
    "version": 3
   },
   "file_extension": ".py",
   "mimetype": "text/x-python",
   "name": "python",
   "nbconvert_exporter": "python",
   "pygments_lexer": "ipython3",
   "version": "3.8.8"
  }
 },
 "nbformat": 4,
 "nbformat_minor": 5
}

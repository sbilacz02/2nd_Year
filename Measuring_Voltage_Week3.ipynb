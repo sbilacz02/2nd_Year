{
 "cells": [
  {
   "cell_type": "code",
   "execution_count": 2,
   "id": "e5853ce5",
   "metadata": {},
   "outputs": [
    {
     "name": "stdout",
     "output_type": "stream",
     "text": [
      "\n",
      "\n",
      "new_numeric_value; 1.64 , of type <class 'float'>\n"
     ]
    }
   ],
   "source": [
    "import serial\n",
    "\n",
    "serial_port = \"COM3\"\n",
    "\n",
    "def read_arduino(serial_port = \"COM3\", baudrate = 115200, timeout = 2):\n",
    "    with serial.Serial(port = serial_port, baudrate = baudrate, timeout = timeout) as arduino:\n",
    "        arduino.read_until(b'Yours sincerely, Arduino') # The end of our 'distinctive message', don't need to print anymore.\n",
    "        print('\\n') # Extra line for clarity\n",
    "        value = arduino.read_until(b'\\r\\n') # remember that Serial.println() terminates with '\\r\\n', and it is a bytearray!\n",
    "        try:\n",
    "            numeric_value = float(value.decode().strip())\n",
    "        except ValueError:\n",
    "            numeric_value = 0.0\n",
    "    return numeric_value\n",
    "\n",
    "new_numeric_value = read_arduino()\n",
    "\n",
    "print('new_numeric_value;', new_numeric_value, ', of type', type(new_numeric_value))"
   ]
  },
  {
   "cell_type": "code",
   "execution_count": 11,
   "id": "7b8b9742",
   "metadata": {},
   "outputs": [],
   "source": [
    "# .decode() changes from bytearray to string type\n",
    "# .strip() removes extra lines/indentation.\n",
    "# float() changes to type float"
   ]
  },
  {
   "cell_type": "code",
   "execution_count": 3,
   "id": "ea648cc1",
   "metadata": {},
   "outputs": [
    {
     "name": "stdout",
     "output_type": "stream",
     "text": [
      "numpy_numeric_values;  [1.64 1.64 1.64 1.64 1.64 1.64 1.64 1.64 1.64 1.64] , of type <class 'numpy.ndarray'>\n",
      "numpy_numeric_values[0];  1.64 , of type <class 'numpy.float32'>\n",
      "average value = 1.64 +/- 0.0 units\n"
     ]
    }
   ],
   "source": [
    "import numpy\n",
    "import serial\n",
    "\n",
    "def read_arduino(number_readings=10, data_type=numpy.float32, error_value=numpy.NaN,\n",
    "                 serial_port='COM3', baud_rate=115200, timeout=2, \n",
    "                 terminator='\\r\\n', startup_message='Yours sincerely, Arduino'): \n",
    "    '''\n",
    "    Returns number_readings (default 1) voltage measurements from Arduino attached to \n",
    "    serial_port at baud_rate with specified timeout.\n",
    "    Each voltage reading from Arduino should be terminated with terminator (string), and \n",
    "    it should give a suitable startup message (string).  \n",
    "    Returns either a numpy array containing a single value (num_readings <= 1), or of length \n",
    "    number_readings, of type data_type. \n",
    "    Returns element with error_value if value cannot be converted to type data_type.\n",
    "    '''\n",
    "    if number_readings < 1: number_readings = 1 # need at least 1 reading!\n",
    "    # Define an empty array of appropriate size and datatype\n",
    "    numeric_values = numpy.zeros((number_readings,), dtype=data_type)\n",
    "    \n",
    "    with serial.Serial(port=serial_port, baudrate=baud_rate, timeout=timeout) as arduino:\n",
    "        # Connect, and read until distinctive startup_message\n",
    "        arduino.read_until(startup_message.encode()) # string.encode() -> bytearray\n",
    "        for i in range(number_readings): # Gather the appropriate number of measurements\n",
    "            value = arduino.read_until(terminator.encode()) # string.encode() -> bytearray\n",
    "            try: # try to convert returned value to type data_type\n",
    "                numeric_values[i] = data_type(value.decode().strip())\n",
    "            except ValueError: # If we fail to convert data to type data_type, then\n",
    "                numeric_values[i] = error_value # return error_value instead.\n",
    "    # Remember that exiting the 'with' block closes the connection automatically.\n",
    "    return numeric_values\n",
    "\n",
    "numpy_numeric_values = read_arduino()\n",
    "\n",
    "print('numpy_numeric_values; ', numpy_numeric_values, \n",
    "      ', of type', type(numpy_numeric_values))\n",
    "      \n",
    "print('numpy_numeric_values[0]; ', numpy_numeric_values[0], \n",
    "      ', of type', type(numpy_numeric_values[0]))\n",
    "\n",
    "mean = numpy.mean(numpy_numeric_values) \n",
    "std_error = numpy.std(numpy_numeric_values)/numpy.sqrt(len(numpy_numeric_values))\n",
    "\n",
    "print('average value =', mean, '+/-', std_error, 'units')"
   ]
  },
  {
   "cell_type": "code",
   "execution_count": 5,
   "id": "014ae912",
   "metadata": {},
   "outputs": [
    {
     "name": "stdout",
     "output_type": "stream",
     "text": [
      "[64.    1.64  1.64  1.63  1.64  1.64  1.64  1.63  1.64  1.64]\n"
     ]
    }
   ],
   "source": [
    "voltages = read_arduino(number_readings=10)\n",
    "print(voltages)"
   ]
  },
  {
   "cell_type": "code",
   "execution_count": null,
   "id": "00f94bbd",
   "metadata": {},
   "outputs": [],
   "source": []
  }
 ],
 "metadata": {
  "kernelspec": {
   "display_name": "Python 3",
   "language": "python",
   "name": "python3"
  },
  "language_info": {
   "codemirror_mode": {
    "name": "ipython",
    "version": 3
   },
   "file_extension": ".py",
   "mimetype": "text/x-python",
   "name": "python",
   "nbconvert_exporter": "python",
   "pygments_lexer": "ipython3",
   "version": "3.8.8"
  }
 },
 "nbformat": 4,
 "nbformat_minor": 5
}
